{
 "cells": [
  {
   "cell_type": "code",
   "execution_count": 34,
   "metadata": {},
   "outputs": [
    {
     "data": {
      "text/html": [
       "<div>\n",
       "<style scoped>\n",
       "    .dataframe tbody tr th:only-of-type {\n",
       "        vertical-align: middle;\n",
       "    }\n",
       "\n",
       "    .dataframe tbody tr th {\n",
       "        vertical-align: top;\n",
       "    }\n",
       "\n",
       "    .dataframe thead th {\n",
       "        text-align: right;\n",
       "    }\n",
       "</style>\n",
       "<table border=\"1\" class=\"dataframe\">\n",
       "  <thead>\n",
       "    <tr style=\"text-align: right;\">\n",
       "      <th></th>\n",
       "      <th>Player</th>\n",
       "      <th>Tm</th>\n",
       "      <th>Pos</th>\n",
       "      <th>Age</th>\n",
       "      <th>Fumbles</th>\n",
       "      <th>FantasyPoints</th>\n",
       "      <th>TDs</th>\n",
       "      <th>YDs</th>\n",
       "      <th>Touches</th>\n",
       "    </tr>\n",
       "  </thead>\n",
       "  <tbody>\n",
       "    <tr>\n",
       "      <th>0</th>\n",
       "      <td>Cooper Kupp</td>\n",
       "      <td>LAR</td>\n",
       "      <td>WR</td>\n",
       "      <td>26</td>\n",
       "      <td>3</td>\n",
       "      <td>270.5</td>\n",
       "      <td>10</td>\n",
       "      <td>1165</td>\n",
       "      <td>97</td>\n",
       "    </tr>\n",
       "    <tr>\n",
       "      <th>1</th>\n",
       "      <td>Kareem Hunt</td>\n",
       "      <td>CLE</td>\n",
       "      <td>RB</td>\n",
       "      <td>24</td>\n",
       "      <td>1</td>\n",
       "      <td>101.4</td>\n",
       "      <td>3</td>\n",
       "      <td>464</td>\n",
       "      <td>80</td>\n",
       "    </tr>\n",
       "    <tr>\n",
       "      <th>2</th>\n",
       "      <td>C.J. Ham</td>\n",
       "      <td>MIN</td>\n",
       "      <td>RB</td>\n",
       "      <td>26</td>\n",
       "      <td>1</td>\n",
       "      <td>37.6</td>\n",
       "      <td>1</td>\n",
       "      <td>166</td>\n",
       "      <td>24</td>\n",
       "    </tr>\n",
       "    <tr>\n",
       "      <th>3</th>\n",
       "      <td>Trey Quinn</td>\n",
       "      <td>WAS</td>\n",
       "      <td>WR</td>\n",
       "      <td>24</td>\n",
       "      <td>1</td>\n",
       "      <td>49.8</td>\n",
       "      <td>1</td>\n",
       "      <td>198</td>\n",
       "      <td>26</td>\n",
       "    </tr>\n",
       "    <tr>\n",
       "      <th>4</th>\n",
       "      <td>Travis Homer</td>\n",
       "      <td>SEA</td>\n",
       "      <td>RB</td>\n",
       "      <td>21</td>\n",
       "      <td>0</td>\n",
       "      <td>28.0</td>\n",
       "      <td>0</td>\n",
       "      <td>170</td>\n",
       "      <td>29</td>\n",
       "    </tr>\n",
       "  </tbody>\n",
       "</table>\n",
       "</div>"
      ],
      "text/plain": [
       "         Player   Tm Pos  Age  Fumbles  FantasyPoints  TDs   YDs  Touches\n",
       "0   Cooper Kupp  LAR  WR   26        3          270.5   10  1165       97\n",
       "1   Kareem Hunt  CLE  RB   24        1          101.4    3   464       80\n",
       "2      C.J. Ham  MIN  RB   26        1           37.6    1   166       24\n",
       "3    Trey Quinn  WAS  WR   24        1           49.8    1   198       26\n",
       "4  Travis Homer  SEA  RB   21        0           28.0    0   170       29"
      ]
     },
     "execution_count": 34,
     "metadata": {},
     "output_type": "execute_result"
    }
   ],
   "source": [
    "import pandas as pd\n",
    "from matplotlib import pyplot as plt\n",
    "from sklearn import linear_model\n",
    "from sklearn.metrics import mean_squared_error, r2_score\n",
    "\n",
    "# Get the data \n",
    "df_test = pd.read_csv(\"2019_test.csv\")\n",
    "df_train = pd.read_csv(\"2019_train.csv\")\n",
    "df_test = df_test.drop(columns=[\"Unnamed: 0\"])\n",
    "df_train = df_train.drop(columns=[\"Unnamed: 0\"])\n",
    "df_train.head()"
   ]
  },
  {
   "cell_type": "code",
   "execution_count": 37,
   "metadata": {},
   "outputs": [],
   "source": [
    "# Set up the training models in a list \n",
    "x_train = df_train.drop(columns=[\"Player\", \"Tm\", \"Pos\", \"FantasyPoints\"]).to_numpy()\n",
    "x_test = df_test.drop(columns=[\"Player\", \"Tm\", \"Pos\", \"FantasyPoints\"]).to_numpy()\n",
    "\n",
    "y_train = df_train[\"FantasyPoints\"].to_numpy()\n",
    "y_test = df_test[\"FantasyPoints\"].to_numpy()"
   ]
  },
  {
   "cell_type": "code",
   "execution_count": 38,
   "metadata": {},
   "outputs": [],
   "source": [
    "regr = linear_model.LinearRegression()\n",
    "model = regr.fit(x_train, y_train)\n",
    "y_pred = regr.predict(x_test)"
   ]
  },
  {
   "cell_type": "code",
   "execution_count": 39,
   "metadata": {},
   "outputs": [
    {
     "data": {
      "image/png": "[encoded data removed]",
      "text/plain": [
       "<Figure size 432x288 with 1 Axes>"
      ]
     },
     "metadata": {},
     "output_type": "display_data"
    }
   ],
   "source": [
    "plt.scatter(x_test[:,-1:], y_test,  color='black')\n",
    "plt.plot(x_test[:,-1:], y_pred, color='blue', linewidth=3)\n",
    "plt.show()"
   ]
  },
  {
   "cell_type": "code",
   "execution_count": 40,
   "metadata": {},
   "outputs": [
    {
     "name": "stdout",
     "output_type": "stream",
     "text": [
      "[[  24    2    5  607   58]\n",
      " [  25    1    1  459   34]\n",
      " [  25   12   34 5359  685]\n",
      " [  27    0    8 1189  108]\n",
      " [  23    1    2  515  118]\n",
      " [  28    0    4  311   36]\n",
      " [  23    0    0   92   10]\n",
      " [  24    3    8 1772  334]\n",
      " [  35    0    1  123   10]\n",
      " [  26    3    7 1332  184]\n",
      " [  26    1    0  187   30]\n",
      " [  25    0    7  594  129]\n",
      " [  25    0    2  350   58]\n",
      " [  27    2    1  169   23]\n",
      " [  30    2    0  570   94]\n",
      " [  23    0    0  359   26]\n",
      " [  23    0    3  198   13]\n",
      " [  34    2    4  374   73]\n",
      " [  23   13   21 3615  537]\n",
      " [  25    0    1  100   10]\n",
      " [  37    1    4  529   63]\n",
      " [  25    0    4  329   25]\n",
      " [  22    4    4  969  180]\n",
      " [  23    0    1  169   10]\n",
      " [  24    0    1  200   12]\n",
      " [  25   10   24 4678  659]\n",
      " [  23    1    4  269   24]\n",
      " [  23    0    5  234   18]\n",
      " [  28    7   23 4136  540]\n",
      " [  27    0    0   66   22]\n",
      " [  31    1    6  692   50]\n",
      " [  23    1    4  453   73]\n",
      " [  26    0    3  679  144]\n",
      " [  27    2   10  952  151]\n",
      " [  25    2    2  303   46]\n",
      " [  22    0    2  295   66]\n",
      " [  23    0    8 1173  261]\n",
      " [  25    0    2  461   28]]\n",
      "[100.0273223   87.09366926 432.93494091 166.48910336  93.5100446\n",
      "  85.17422339  69.16915406 179.44142568  49.07469824 144.54630335\n",
      "  59.97113762 117.02460641  88.68190306  49.3981351   70.35981261\n",
      "  90.70041705  85.0682429   56.26994049 258.22073998  68.04647821\n",
      "  73.37278657  93.59659199 105.69239635  78.03125855  78.43227873\n",
      " 372.82245854  83.02999453  92.57825954 354.74129457  57.92541904\n",
      " 105.15000007  95.67064874 111.67242546 129.32011133  65.90480645\n",
      "  89.86486935 164.65246137  99.75396825]\n"
     ]
    }
   ],
   "source": [
    "print (x_test)\n",
    "print (y_pred)"
   ]
  },
  {
   "cell_type": "code",
   "execution_count": null,
   "metadata": {},
   "outputs": [],
   "source": []
  }
 ],
 "metadata": {
  "kernelspec": {
   "display_name": "Python 3",
   "language": "python",
   "name": "python3"
  },
  "language_info": {
   "codemirror_mode": {
    "name": "ipython",
    "version": 3
   },
   "file_extension": ".py",
   "mimetype": "text/x-python",
   "name": "python",
   "nbconvert_exporter": "python",
   "pygments_lexer": "ipython3",
   "version": "3.8.3"
  }
 },
 "nbformat": 4,
 "nbformat_minor": 4
}
