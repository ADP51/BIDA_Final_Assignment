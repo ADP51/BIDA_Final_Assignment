{
 "cells": [
  {
   "cell_type": "code",
   "execution_count": 1,
   "metadata": {},
   "outputs": [
    {
     "data": {
      "text/html": [
       "<div>\n",
       "<style scoped>\n",
       "    .dataframe tbody tr th:only-of-type {\n",
       "        vertical-align: middle;\n",
       "    }\n",
       "\n",
       "    .dataframe tbody tr th {\n",
       "        vertical-align: top;\n",
       "    }\n",
       "\n",
       "    .dataframe thead th {\n",
       "        text-align: right;\n",
       "    }\n",
       "</style>\n",
       "<table border=\"1\" class=\"dataframe\">\n",
       "  <thead>\n",
       "    <tr style=\"text-align: right;\">\n",
       "      <th></th>\n",
       "      <th>Player</th>\n",
       "      <th>Tm</th>\n",
       "      <th>Pos</th>\n",
       "      <th>Age</th>\n",
       "      <th>Fumbles</th>\n",
       "      <th>FantasyPoints</th>\n",
       "      <th>TDs</th>\n",
       "      <th>YDs</th>\n",
       "      <th>Touches</th>\n",
       "    </tr>\n",
       "  </thead>\n",
       "  <tbody>\n",
       "    <tr>\n",
       "      <th>0</th>\n",
       "      <td>Marcus Mariota</td>\n",
       "      <td>TEN</td>\n",
       "      <td>QB</td>\n",
       "      <td>26</td>\n",
       "      <td>3</td>\n",
       "      <td>85.02</td>\n",
       "      <td>7</td>\n",
       "      <td>1332</td>\n",
       "      <td>184</td>\n",
       "    </tr>\n",
       "    <tr>\n",
       "      <th>1</th>\n",
       "      <td>Damien Williams</td>\n",
       "      <td>KAN</td>\n",
       "      <td>RB</td>\n",
       "      <td>27</td>\n",
       "      <td>1</td>\n",
       "      <td>141.10</td>\n",
       "      <td>7</td>\n",
       "      <td>711</td>\n",
       "      <td>141</td>\n",
       "    </tr>\n",
       "    <tr>\n",
       "      <th>2</th>\n",
       "      <td>Peyton Barber</td>\n",
       "      <td>TAM</td>\n",
       "      <td>RB</td>\n",
       "      <td>25</td>\n",
       "      <td>1</td>\n",
       "      <td>114.50</td>\n",
       "      <td>7</td>\n",
       "      <td>585</td>\n",
       "      <td>170</td>\n",
       "    </tr>\n",
       "    <tr>\n",
       "      <th>3</th>\n",
       "      <td>Tyler Higbee</td>\n",
       "      <td>LAR</td>\n",
       "      <td>TE</td>\n",
       "      <td>26</td>\n",
       "      <td>0</td>\n",
       "      <td>160.40</td>\n",
       "      <td>3</td>\n",
       "      <td>734</td>\n",
       "      <td>69</td>\n",
       "    </tr>\n",
       "    <tr>\n",
       "      <th>4</th>\n",
       "      <td>DeVante Parker</td>\n",
       "      <td>MIA</td>\n",
       "      <td>WR</td>\n",
       "      <td>26</td>\n",
       "      <td>0</td>\n",
       "      <td>246.20</td>\n",
       "      <td>9</td>\n",
       "      <td>1202</td>\n",
       "      <td>72</td>\n",
       "    </tr>\n",
       "  </tbody>\n",
       "</table>\n",
       "</div>"
      ],
      "text/plain": [
       "            Player   Tm Pos  Age  Fumbles  FantasyPoints  TDs   YDs  Touches\n",
       "0   Marcus Mariota  TEN  QB   26        3          85.02    7  1332      184\n",
       "1  Damien Williams  KAN  RB   27        1         141.10    7   711      141\n",
       "2    Peyton Barber  TAM  RB   25        1         114.50    7   585      170\n",
       "3     Tyler Higbee  LAR  TE   26        0         160.40    3   734       69\n",
       "4   DeVante Parker  MIA  WR   26        0         246.20    9  1202       72"
      ]
     },
     "execution_count": 1,
     "metadata": {},
     "output_type": "execute_result"
    }
   ],
   "source": [
    "import pandas as pd\n",
    "import numpy as np\n",
    "import seaborn as sns\n",
    "import statsmodels.formula.api as smf\n",
    "from sklearn import linear_model, tree\n",
    "from sklearn.metrics import mean_squared_error, r2_score\n",
    "\n",
    "# Get the data \n",
    "df_test = pd.read_csv(\"2019_test.csv\")\n",
    "df_train = pd.read_csv(\"2019_train.csv\")\n",
    "df_test = df_test.drop(columns=[\"Unnamed: 0\"])\n",
    "df_train = df_train.drop(columns=[\"Unnamed: 0\"])\n",
    "df_train.head()"
   ]
  },
  {
   "cell_type": "code",
   "execution_count": 2,
   "metadata": {},
   "outputs": [],
   "source": [
    "# Set up the training models in a list \n",
    "x_train = df_train.drop(columns=[\"Player\", \"Age\", \"Tm\", \"Pos\", \"FantasyPoints\"]).to_numpy()\n",
    "x_test = df_test.drop(columns=[\"Player\", \"Age\", \"Tm\", \"Pos\", \"FantasyPoints\"]).to_numpy()\n",
    "\n",
    "y_train = df_train[\"FantasyPoints\"].to_numpy()\n",
    "y_test = df_test[\"FantasyPoints\"].to_numpy()"
   ]
  },
  {
   "cell_type": "code",
   "execution_count": 3,
   "metadata": {},
   "outputs": [],
   "source": [
    "regr = linear_model.LinearRegression()\n",
    "model = regr.fit(x_train, y_train)\n",
    "y_pred = regr.predict(x_test)"
   ]
  },
  {
   "cell_type": "code",
   "execution_count": 4,
   "metadata": {},
   "outputs": [],
   "source": [
    "df_test['PredictedPoints'] = y_pred"
   ]
  },
  {
   "cell_type": "code",
   "execution_count": 5,
   "metadata": {},
   "outputs": [
    {
     "data": {
      "text/html": [
       "<div>\n",
       "<style scoped>\n",
       "    .dataframe tbody tr th:only-of-type {\n",
       "        vertical-align: middle;\n",
       "    }\n",
       "\n",
       "    .dataframe tbody tr th {\n",
       "        vertical-align: top;\n",
       "    }\n",
       "\n",
       "    .dataframe thead th {\n",
       "        text-align: right;\n",
       "    }\n",
       "</style>\n",
       "<table border=\"1\" class=\"dataframe\">\n",
       "  <thead>\n",
       "    <tr style=\"text-align: right;\">\n",
       "      <th></th>\n",
       "      <th>Player</th>\n",
       "      <th>Tm</th>\n",
       "      <th>Pos</th>\n",
       "      <th>Age</th>\n",
       "      <th>Fumbles</th>\n",
       "      <th>FantasyPoints</th>\n",
       "      <th>TDs</th>\n",
       "      <th>YDs</th>\n",
       "      <th>Touches</th>\n",
       "      <th>PredictedPoints</th>\n",
       "    </tr>\n",
       "  </thead>\n",
       "  <tbody>\n",
       "    <tr>\n",
       "      <th>0</th>\n",
       "      <td>Tom Brady</td>\n",
       "      <td>NWE</td>\n",
       "      <td>QB</td>\n",
       "      <td>42</td>\n",
       "      <td>4</td>\n",
       "      <td>261.68</td>\n",
       "      <td>27</td>\n",
       "      <td>4091</td>\n",
       "      <td>639</td>\n",
       "      <td>331.871673</td>\n",
       "    </tr>\n",
       "    <tr>\n",
       "      <th>1</th>\n",
       "      <td>Deebo Samuel</td>\n",
       "      <td>SFO</td>\n",
       "      <td>WR</td>\n",
       "      <td>23</td>\n",
       "      <td>2</td>\n",
       "      <td>187.10</td>\n",
       "      <td>6</td>\n",
       "      <td>961</td>\n",
       "      <td>71</td>\n",
       "      <td>159.205295</td>\n",
       "    </tr>\n",
       "    <tr>\n",
       "      <th>2</th>\n",
       "      <td>Brian Hoyer</td>\n",
       "      <td>IND</td>\n",
       "      <td>QB</td>\n",
       "      <td>34</td>\n",
       "      <td>2</td>\n",
       "      <td>21.08</td>\n",
       "      <td>4</td>\n",
       "      <td>374</td>\n",
       "      <td>73</td>\n",
       "      <td>117.933576</td>\n",
       "    </tr>\n",
       "    <tr>\n",
       "      <th>3</th>\n",
       "      <td>Mark Ingram</td>\n",
       "      <td>BAL</td>\n",
       "      <td>RB</td>\n",
       "      <td>30</td>\n",
       "      <td>2</td>\n",
       "      <td>238.50</td>\n",
       "      <td>15</td>\n",
       "      <td>1265</td>\n",
       "      <td>228</td>\n",
       "      <td>204.751366</td>\n",
       "    </tr>\n",
       "    <tr>\n",
       "      <th>4</th>\n",
       "      <td>Will Grier</td>\n",
       "      <td>CAR</td>\n",
       "      <td>QB</td>\n",
       "      <td>24</td>\n",
       "      <td>1</td>\n",
       "      <td>1.32</td>\n",
       "      <td>0</td>\n",
       "      <td>250</td>\n",
       "      <td>59</td>\n",
       "      <td>99.110142</td>\n",
       "    </tr>\n",
       "  </tbody>\n",
       "</table>\n",
       "</div>"
      ],
      "text/plain": [
       "         Player   Tm Pos  Age  Fumbles  FantasyPoints  TDs   YDs  Touches  \\\n",
       "0     Tom Brady  NWE  QB   42        4         261.68   27  4091      639   \n",
       "1  Deebo Samuel  SFO  WR   23        2         187.10    6   961       71   \n",
       "2   Brian Hoyer  IND  QB   34        2          21.08    4   374       73   \n",
       "3   Mark Ingram  BAL  RB   30        2         238.50   15  1265      228   \n",
       "4    Will Grier  CAR  QB   24        1           1.32    0   250       59   \n",
       "\n",
       "   PredictedPoints  \n",
       "0       331.871673  \n",
       "1       159.205295  \n",
       "2       117.933576  \n",
       "3       204.751366  \n",
       "4        99.110142  "
      ]
     },
     "execution_count": 5,
     "metadata": {},
     "output_type": "execute_result"
    }
   ],
   "source": [
    "df_test.head()"
   ]
  },
  {
   "cell_type": "code",
   "execution_count": 6,
   "metadata": {},
   "outputs": [
    {
     "data": {
      "text/html": [
       "<div>\n",
       "<style scoped>\n",
       "    .dataframe tbody tr th:only-of-type {\n",
       "        vertical-align: middle;\n",
       "    }\n",
       "\n",
       "    .dataframe tbody tr th {\n",
       "        vertical-align: top;\n",
       "    }\n",
       "\n",
       "    .dataframe thead th {\n",
       "        text-align: right;\n",
       "    }\n",
       "</style>\n",
       "<table border=\"1\" class=\"dataframe\">\n",
       "  <thead>\n",
       "    <tr style=\"text-align: right;\">\n",
       "      <th></th>\n",
       "      <th>Player</th>\n",
       "      <th>Tm</th>\n",
       "      <th>Pos</th>\n",
       "      <th>Age</th>\n",
       "      <th>Fumbles</th>\n",
       "      <th>FantasyPoints</th>\n",
       "      <th>TDs</th>\n",
       "      <th>YDs</th>\n",
       "      <th>Touches</th>\n",
       "      <th>PredictedPoints</th>\n",
       "      <th>+/-</th>\n",
       "    </tr>\n",
       "  </thead>\n",
       "  <tbody>\n",
       "    <tr>\n",
       "      <th>0</th>\n",
       "      <td>Tom Brady</td>\n",
       "      <td>NWE</td>\n",
       "      <td>QB</td>\n",
       "      <td>42</td>\n",
       "      <td>4</td>\n",
       "      <td>261.68</td>\n",
       "      <td>27</td>\n",
       "      <td>4091</td>\n",
       "      <td>639</td>\n",
       "      <td>331.871673</td>\n",
       "      <td>False</td>\n",
       "    </tr>\n",
       "    <tr>\n",
       "      <th>1</th>\n",
       "      <td>Deebo Samuel</td>\n",
       "      <td>SFO</td>\n",
       "      <td>WR</td>\n",
       "      <td>23</td>\n",
       "      <td>2</td>\n",
       "      <td>187.10</td>\n",
       "      <td>6</td>\n",
       "      <td>961</td>\n",
       "      <td>71</td>\n",
       "      <td>159.205295</td>\n",
       "      <td>True</td>\n",
       "    </tr>\n",
       "    <tr>\n",
       "      <th>2</th>\n",
       "      <td>Brian Hoyer</td>\n",
       "      <td>IND</td>\n",
       "      <td>QB</td>\n",
       "      <td>34</td>\n",
       "      <td>2</td>\n",
       "      <td>21.08</td>\n",
       "      <td>4</td>\n",
       "      <td>374</td>\n",
       "      <td>73</td>\n",
       "      <td>117.933576</td>\n",
       "      <td>False</td>\n",
       "    </tr>\n",
       "    <tr>\n",
       "      <th>3</th>\n",
       "      <td>Mark Ingram</td>\n",
       "      <td>BAL</td>\n",
       "      <td>RB</td>\n",
       "      <td>30</td>\n",
       "      <td>2</td>\n",
       "      <td>238.50</td>\n",
       "      <td>15</td>\n",
       "      <td>1265</td>\n",
       "      <td>228</td>\n",
       "      <td>204.751366</td>\n",
       "      <td>True</td>\n",
       "    </tr>\n",
       "    <tr>\n",
       "      <th>4</th>\n",
       "      <td>Will Grier</td>\n",
       "      <td>CAR</td>\n",
       "      <td>QB</td>\n",
       "      <td>24</td>\n",
       "      <td>1</td>\n",
       "      <td>1.32</td>\n",
       "      <td>0</td>\n",
       "      <td>250</td>\n",
       "      <td>59</td>\n",
       "      <td>99.110142</td>\n",
       "      <td>False</td>\n",
       "    </tr>\n",
       "  </tbody>\n",
       "</table>\n",
       "</div>"
      ],
      "text/plain": [
       "         Player   Tm Pos  Age  Fumbles  FantasyPoints  TDs   YDs  Touches  \\\n",
       "0     Tom Brady  NWE  QB   42        4         261.68   27  4091      639   \n",
       "1  Deebo Samuel  SFO  WR   23        2         187.10    6   961       71   \n",
       "2   Brian Hoyer  IND  QB   34        2          21.08    4   374       73   \n",
       "3   Mark Ingram  BAL  RB   30        2         238.50   15  1265      228   \n",
       "4    Will Grier  CAR  QB   24        1           1.32    0   250       59   \n",
       "\n",
       "   PredictedPoints    +/-  \n",
       "0       331.871673  False  \n",
       "1       159.205295   True  \n",
       "2       117.933576  False  \n",
       "3       204.751366   True  \n",
       "4        99.110142  False  "
      ]
     },
     "execution_count": 6,
     "metadata": {},
     "output_type": "execute_result"
    }
   ],
   "source": [
    "df_test['+/-'] = np.where(df_test['PredictedPoints'] > df_test['FantasyPoints'], False, True)\n",
    "df_test.head()"
   ]
  },
  {
   "cell_type": "code",
   "execution_count": 7,
   "metadata": {},
   "outputs": [
    {
     "data": {
      "text/plain": [
       "106.03597073145215"
      ]
     },
     "execution_count": 7,
     "metadata": {},
     "output_type": "execute_result"
    }
   ],
   "source": [
    "model.intercept_\n"
   ]
  },
  {
   "cell_type": "code",
   "execution_count": 8,
   "metadata": {},
   "outputs": [
    {
     "data": {
      "text/plain": [
       "array([-9.73308301,  6.18522966,  0.04869464, -0.15875265])"
      ]
     },
     "execution_count": 8,
     "metadata": {},
     "output_type": "execute_result"
    }
   ],
   "source": [
    "model.coef_"
   ]
  },
  {
   "cell_type": "code",
   "execution_count": 9,
   "metadata": {},
   "outputs": [
    {
     "data": {
      "text/html": [
       "<div>\n",
       "<style scoped>\n",
       "    .dataframe tbody tr th:only-of-type {\n",
       "        vertical-align: middle;\n",
       "    }\n",
       "\n",
       "    .dataframe tbody tr th {\n",
       "        vertical-align: top;\n",
       "    }\n",
       "\n",
       "    .dataframe thead th {\n",
       "        text-align: right;\n",
       "    }\n",
       "</style>\n",
       "<table border=\"1\" class=\"dataframe\">\n",
       "  <thead>\n",
       "    <tr style=\"text-align: right;\">\n",
       "      <th></th>\n",
       "      <th>Player</th>\n",
       "      <th>Tm</th>\n",
       "      <th>Pos</th>\n",
       "      <th>Age</th>\n",
       "      <th>Fumbles</th>\n",
       "      <th>FantasyPoints</th>\n",
       "      <th>TDs</th>\n",
       "      <th>YDs</th>\n",
       "      <th>Touches</th>\n",
       "    </tr>\n",
       "  </thead>\n",
       "  <tbody>\n",
       "    <tr>\n",
       "      <th>0</th>\n",
       "      <td>Marcus Mariota</td>\n",
       "      <td>TEN</td>\n",
       "      <td>QB</td>\n",
       "      <td>26</td>\n",
       "      <td>3</td>\n",
       "      <td>85.02</td>\n",
       "      <td>7</td>\n",
       "      <td>1332</td>\n",
       "      <td>184</td>\n",
       "    </tr>\n",
       "    <tr>\n",
       "      <th>1</th>\n",
       "      <td>Damien Williams</td>\n",
       "      <td>KAN</td>\n",
       "      <td>RB</td>\n",
       "      <td>27</td>\n",
       "      <td>1</td>\n",
       "      <td>141.10</td>\n",
       "      <td>7</td>\n",
       "      <td>711</td>\n",
       "      <td>141</td>\n",
       "    </tr>\n",
       "    <tr>\n",
       "      <th>2</th>\n",
       "      <td>Peyton Barber</td>\n",
       "      <td>TAM</td>\n",
       "      <td>RB</td>\n",
       "      <td>25</td>\n",
       "      <td>1</td>\n",
       "      <td>114.50</td>\n",
       "      <td>7</td>\n",
       "      <td>585</td>\n",
       "      <td>170</td>\n",
       "    </tr>\n",
       "    <tr>\n",
       "      <th>3</th>\n",
       "      <td>Tyler Higbee</td>\n",
       "      <td>LAR</td>\n",
       "      <td>TE</td>\n",
       "      <td>26</td>\n",
       "      <td>0</td>\n",
       "      <td>160.40</td>\n",
       "      <td>3</td>\n",
       "      <td>734</td>\n",
       "      <td>69</td>\n",
       "    </tr>\n",
       "    <tr>\n",
       "      <th>4</th>\n",
       "      <td>DeVante Parker</td>\n",
       "      <td>MIA</td>\n",
       "      <td>WR</td>\n",
       "      <td>26</td>\n",
       "      <td>0</td>\n",
       "      <td>246.20</td>\n",
       "      <td>9</td>\n",
       "      <td>1202</td>\n",
       "      <td>72</td>\n",
       "    </tr>\n",
       "  </tbody>\n",
       "</table>\n",
       "</div>"
      ],
      "text/plain": [
       "            Player   Tm Pos  Age  Fumbles  FantasyPoints  TDs   YDs  Touches\n",
       "0   Marcus Mariota  TEN  QB   26        3          85.02    7  1332      184\n",
       "1  Damien Williams  KAN  RB   27        1         141.10    7   711      141\n",
       "2    Peyton Barber  TAM  RB   25        1         114.50    7   585      170\n",
       "3     Tyler Higbee  LAR  TE   26        0         160.40    3   734       69\n",
       "4   DeVante Parker  MIA  WR   26        0         246.20    9  1202       72"
      ]
     },
     "execution_count": 9,
     "metadata": {},
     "output_type": "execute_result"
    }
   ],
   "source": [
    "df_train.head()"
   ]
  },
  {
   "cell_type": "code",
   "execution_count": 10,
   "metadata": {},
   "outputs": [],
   "source": [
    "df_plot = df_train.drop(columns=[\"Player\", \"Age\", \"Tm\", \"Pos\"])\n",
    "df_train = df_train[['Fumbles','TDs','YDs', 'Touches','FantasyPoints']]"
   ]
  },
  {
   "cell_type": "code",
   "execution_count": 11,
   "metadata": {},
   "outputs": [
    {
     "name": "stderr",
     "output_type": "stream",
     "text": [
      "/Users/andrewpalmer/opt/anaconda3/envs/jupyter/lib/python3.7/site-packages/seaborn/axisgrid.py:2079: UserWarning: The `size` parameter has been renamed to `height`; please update your code.\n",
      "  warnings.warn(msg, UserWarning)\n"
     ]
    },
    {
     "data": {
      "text/plain": [
       "<seaborn.axisgrid.PairGrid at 0x7fe5dc803990>"
      ]
     },
     "execution_count": 11,
     "metadata": {},
     "output_type": "execute_result"
    },
    {
     "data": {
      "image/png": "[encoded data removed]",
      "text/plain": [
       "<Figure size 1411.2x504 with 4 Axes>"
      ]
     },
     "metadata": {
      "needs_background": "light"
     },
     "output_type": "display_data"
    }
   ],
   "source": [
    "sns.pairplot(df_plot, x_vars=['Fumbles','TDs','YDs','Touches'], y_vars='FantasyPoints', size=7, aspect=0.7, kind='reg')"
   ]
  },
  {
   "cell_type": "code",
   "execution_count": 12,
   "metadata": {},
   "outputs": [],
   "source": [
    "df_test.to_csv(\"./performance.csv\")"
   ]
  },
  {
   "cell_type": "code",
   "execution_count": null,
   "metadata": {},
   "outputs": [],
   "source": [
    "# Set up the training models in a list \n",
    "x_train = df_train.drop(columns=[\"Player\", \"Age\", \"Tm\", \"Pos\", \"Fumbles\", \"FantasyPoints\"]).to_numpy()\n",
    "x_test = df_test.drop(columns=[\"Player\", \"Age\", \"Tm\", \"Pos\", \"Fumbles\", \"FantasyPoints\"]).to_numpy()\n",
    "\n",
    "y_train = df_train[\"FantasyPoints\"].to_numpy()\n",
    "y_test = df_test[\"FantasyPoints\"].to_numpy()"
   ]
  }
 ],
 "metadata": {
  "kernelspec": {
   "display_name": "Python 3",
   "language": "python",
   "name": "python3"
  },
  "language_info": {
   "codemirror_mode": {
    "name": "ipython",
    "version": 3
   },
   "file_extension": ".py",
   "mimetype": "text/x-python",
   "name": "python",
   "nbconvert_exporter": "python",
   "pygments_lexer": "ipython3",
   "version": "3.7.6"
  }
 },
 "nbformat": 4,
 "nbformat_minor": 4
}
